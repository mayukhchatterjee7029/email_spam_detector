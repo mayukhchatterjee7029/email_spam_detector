{
 "cells": [
  {
   "cell_type": "markdown",
   "id": "b71bb118",
   "metadata": {},
   "source": [
    "## Imports"
   ]
  },
  {
   "cell_type": "code",
   "execution_count": 1,
   "id": "f1b376b9",
   "metadata": {},
   "outputs": [],
   "source": [
    "# libraries\n",
    "import numpy as np\n",
    "import pandas as pd\n",
    "import scipy as sp\n",
    "import matplotlib.pyplot as plt\n",
    "import seaborn as sns\n",
    "from pathlib import Path\n",
    "\n",
    "# local modules\n",
    "from spambase.column_names import columns_spambase ## columns_spambase is a list created in the Path(\"\\spambase\\column_names.py\") i.e. the list of column names\n",
    "\n",
    "# preprocessing\n",
    "from sklearn.model_selection import train_test_split, learning_curve\n",
    "\n",
    "# pipelines\n",
    "from sklearn.pipeline import make_pipeline\n",
    "\n",
    "# models\n",
    "from sklearn.cluster import KMeans\n",
    "from sklearn.linear_model import LogisticRegression\n",
    "from sklearn.tree import DecisionTreeClassifier\n",
    "from sklearn.ensemble import RandomForestClassifier\n",
    "from sklearn.ensemble import GradientBoostingClassifier\n",
    "from sklearn.ensemble import VotingClassifier\n",
    "from sklearn.ensemble import StackingClassifier\n",
    "from xgboost import XGBClassifier\n",
    "\n",
    "# cross validation\n",
    "from sklearn.model_selection import RandomizedSearchCV\n",
    "from sklearn.model_selection import KFold, StratifiedKFold\n",
    "\n",
    "# metrics\n",
    "from sklearn.metrics import confusion_matrix\n",
    "from sklearn.metrics import classification_report\n",
    "from sklearn.metrics import root_mean_squared_error as rmse\n",
    "\n",
    "\n",
    "# custom modules for debugging ## Look for the repo\n",
    "from my_debuggers import nan_detector, create_clf_plots # custom modules\n"
   ]
  },
  {
   "cell_type": "markdown",
   "id": "5738eb3c",
   "metadata": {},
   "source": [
    "### Importing the dataset"
   ]
  },
  {
   "cell_type": "code",
   "execution_count": 2,
   "id": "f2f40cc0",
   "metadata": {},
   "outputs": [],
   "source": [
    "spambase = pd.read_csv(Path(r'spambase\\spambase.data'), names=columns_spambase, index_col=False)"
   ]
  },
  {
   "cell_type": "markdown",
   "id": "4a1d280b",
   "metadata": {},
   "source": [
    "## Preprocessing"
   ]
  },
  {
   "cell_type": "markdown",
   "id": "9aeabaea",
   "metadata": {},
   "source": [
    "### Getting Insights from the Dataset"
   ]
  },
  {
   "cell_type": "code",
   "execution_count": 3,
   "id": "1b510704",
   "metadata": {},
   "outputs": [
    {
     "data": {
      "text/html": [
       "<div>\n",
       "<style scoped>\n",
       "    .dataframe tbody tr th:only-of-type {\n",
       "        vertical-align: middle;\n",
       "    }\n",
       "\n",
       "    .dataframe tbody tr th {\n",
       "        vertical-align: top;\n",
       "    }\n",
       "\n",
       "    .dataframe thead th {\n",
       "        text-align: right;\n",
       "    }\n",
       "</style>\n",
       "<table border=\"1\" class=\"dataframe\">\n",
       "  <thead>\n",
       "    <tr style=\"text-align: right;\">\n",
       "      <th></th>\n",
       "      <th>word_freq_make</th>\n",
       "      <th>word_freq_address</th>\n",
       "      <th>word_freq_all</th>\n",
       "      <th>word_freq_3d</th>\n",
       "      <th>word_freq_our</th>\n",
       "      <th>word_freq_over</th>\n",
       "      <th>word_freq_remove</th>\n",
       "      <th>word_freq_internet</th>\n",
       "      <th>word_freq_order</th>\n",
       "      <th>word_freq_mail</th>\n",
       "      <th>...</th>\n",
       "      <th>char_freq_;</th>\n",
       "      <th>char_freq_(</th>\n",
       "      <th>char_freq_[</th>\n",
       "      <th>char_freq_!</th>\n",
       "      <th>char_freq_$</th>\n",
       "      <th>char_freq_#</th>\n",
       "      <th>capital_run_length_average</th>\n",
       "      <th>capital_run_length_longest</th>\n",
       "      <th>capital_run_length_total</th>\n",
       "      <th>Class</th>\n",
       "    </tr>\n",
       "  </thead>\n",
       "  <tbody>\n",
       "    <tr>\n",
       "      <th>0</th>\n",
       "      <td>0.00</td>\n",
       "      <td>0.64</td>\n",
       "      <td>0.64</td>\n",
       "      <td>0.0</td>\n",
       "      <td>0.32</td>\n",
       "      <td>0.00</td>\n",
       "      <td>0.00</td>\n",
       "      <td>0.00</td>\n",
       "      <td>0.00</td>\n",
       "      <td>0.00</td>\n",
       "      <td>...</td>\n",
       "      <td>0.00</td>\n",
       "      <td>0.000</td>\n",
       "      <td>0.0</td>\n",
       "      <td>0.778</td>\n",
       "      <td>0.000</td>\n",
       "      <td>0.000</td>\n",
       "      <td>3.756</td>\n",
       "      <td>61</td>\n",
       "      <td>278</td>\n",
       "      <td>1</td>\n",
       "    </tr>\n",
       "    <tr>\n",
       "      <th>1</th>\n",
       "      <td>0.21</td>\n",
       "      <td>0.28</td>\n",
       "      <td>0.50</td>\n",
       "      <td>0.0</td>\n",
       "      <td>0.14</td>\n",
       "      <td>0.28</td>\n",
       "      <td>0.21</td>\n",
       "      <td>0.07</td>\n",
       "      <td>0.00</td>\n",
       "      <td>0.94</td>\n",
       "      <td>...</td>\n",
       "      <td>0.00</td>\n",
       "      <td>0.132</td>\n",
       "      <td>0.0</td>\n",
       "      <td>0.372</td>\n",
       "      <td>0.180</td>\n",
       "      <td>0.048</td>\n",
       "      <td>5.114</td>\n",
       "      <td>101</td>\n",
       "      <td>1028</td>\n",
       "      <td>1</td>\n",
       "    </tr>\n",
       "    <tr>\n",
       "      <th>2</th>\n",
       "      <td>0.06</td>\n",
       "      <td>0.00</td>\n",
       "      <td>0.71</td>\n",
       "      <td>0.0</td>\n",
       "      <td>1.23</td>\n",
       "      <td>0.19</td>\n",
       "      <td>0.19</td>\n",
       "      <td>0.12</td>\n",
       "      <td>0.64</td>\n",
       "      <td>0.25</td>\n",
       "      <td>...</td>\n",
       "      <td>0.01</td>\n",
       "      <td>0.143</td>\n",
       "      <td>0.0</td>\n",
       "      <td>0.276</td>\n",
       "      <td>0.184</td>\n",
       "      <td>0.010</td>\n",
       "      <td>9.821</td>\n",
       "      <td>485</td>\n",
       "      <td>2259</td>\n",
       "      <td>1</td>\n",
       "    </tr>\n",
       "    <tr>\n",
       "      <th>3</th>\n",
       "      <td>0.00</td>\n",
       "      <td>0.00</td>\n",
       "      <td>0.00</td>\n",
       "      <td>0.0</td>\n",
       "      <td>0.63</td>\n",
       "      <td>0.00</td>\n",
       "      <td>0.31</td>\n",
       "      <td>0.63</td>\n",
       "      <td>0.31</td>\n",
       "      <td>0.63</td>\n",
       "      <td>...</td>\n",
       "      <td>0.00</td>\n",
       "      <td>0.137</td>\n",
       "      <td>0.0</td>\n",
       "      <td>0.137</td>\n",
       "      <td>0.000</td>\n",
       "      <td>0.000</td>\n",
       "      <td>3.537</td>\n",
       "      <td>40</td>\n",
       "      <td>191</td>\n",
       "      <td>1</td>\n",
       "    </tr>\n",
       "    <tr>\n",
       "      <th>4</th>\n",
       "      <td>0.00</td>\n",
       "      <td>0.00</td>\n",
       "      <td>0.00</td>\n",
       "      <td>0.0</td>\n",
       "      <td>0.63</td>\n",
       "      <td>0.00</td>\n",
       "      <td>0.31</td>\n",
       "      <td>0.63</td>\n",
       "      <td>0.31</td>\n",
       "      <td>0.63</td>\n",
       "      <td>...</td>\n",
       "      <td>0.00</td>\n",
       "      <td>0.135</td>\n",
       "      <td>0.0</td>\n",
       "      <td>0.135</td>\n",
       "      <td>0.000</td>\n",
       "      <td>0.000</td>\n",
       "      <td>3.537</td>\n",
       "      <td>40</td>\n",
       "      <td>191</td>\n",
       "      <td>1</td>\n",
       "    </tr>\n",
       "  </tbody>\n",
       "</table>\n",
       "<p>5 rows × 58 columns</p>\n",
       "</div>"
      ],
      "text/plain": [
       "   word_freq_make  word_freq_address  word_freq_all  word_freq_3d  \\\n",
       "0            0.00               0.64           0.64           0.0   \n",
       "1            0.21               0.28           0.50           0.0   \n",
       "2            0.06               0.00           0.71           0.0   \n",
       "3            0.00               0.00           0.00           0.0   \n",
       "4            0.00               0.00           0.00           0.0   \n",
       "\n",
       "   word_freq_our  word_freq_over  word_freq_remove  word_freq_internet  \\\n",
       "0           0.32            0.00              0.00                0.00   \n",
       "1           0.14            0.28              0.21                0.07   \n",
       "2           1.23            0.19              0.19                0.12   \n",
       "3           0.63            0.00              0.31                0.63   \n",
       "4           0.63            0.00              0.31                0.63   \n",
       "\n",
       "   word_freq_order  word_freq_mail  ...  char_freq_;  char_freq_(  \\\n",
       "0             0.00            0.00  ...         0.00        0.000   \n",
       "1             0.00            0.94  ...         0.00        0.132   \n",
       "2             0.64            0.25  ...         0.01        0.143   \n",
       "3             0.31            0.63  ...         0.00        0.137   \n",
       "4             0.31            0.63  ...         0.00        0.135   \n",
       "\n",
       "   char_freq_[  char_freq_!  char_freq_$  char_freq_#  \\\n",
       "0          0.0        0.778        0.000        0.000   \n",
       "1          0.0        0.372        0.180        0.048   \n",
       "2          0.0        0.276        0.184        0.010   \n",
       "3          0.0        0.137        0.000        0.000   \n",
       "4          0.0        0.135        0.000        0.000   \n",
       "\n",
       "   capital_run_length_average  capital_run_length_longest  \\\n",
       "0                       3.756                          61   \n",
       "1                       5.114                         101   \n",
       "2                       9.821                         485   \n",
       "3                       3.537                          40   \n",
       "4                       3.537                          40   \n",
       "\n",
       "   capital_run_length_total  Class  \n",
       "0                       278      1  \n",
       "1                      1028      1  \n",
       "2                      2259      1  \n",
       "3                       191      1  \n",
       "4                       191      1  \n",
       "\n",
       "[5 rows x 58 columns]"
      ]
     },
     "execution_count": 3,
     "metadata": {},
     "output_type": "execute_result"
    }
   ],
   "source": [
    "spambase.head()"
   ]
  },
  {
   "cell_type": "code",
   "execution_count": 4,
   "id": "66707f8c",
   "metadata": {},
   "outputs": [
    {
     "name": "stdout",
     "output_type": "stream",
     "text": [
      "Count of columns having NaN values = 0\n",
      "Null values containing Columns = []\n"
     ]
    }
   ],
   "source": [
    "nan_detector(spambase) ## using custom module to detect NaN values"
   ]
  },
  {
   "cell_type": "code",
   "execution_count": 5,
   "id": "d8e3569e",
   "metadata": {},
   "outputs": [],
   "source": [
    "# spambase.isna().sum() ## the custom module works perfectly"
   ]
  },
  {
   "cell_type": "code",
   "execution_count": 6,
   "id": "20eabd06",
   "metadata": {},
   "outputs": [
    {
     "name": "stdout",
     "output_type": "stream",
     "text": [
      "<class 'pandas.core.frame.DataFrame'>\n",
      "RangeIndex: 4601 entries, 0 to 4600\n",
      "Data columns (total 58 columns):\n",
      " #   Column                      Non-Null Count  Dtype  \n",
      "---  ------                      --------------  -----  \n",
      " 0   word_freq_make              4601 non-null   float64\n",
      " 1   word_freq_address           4601 non-null   float64\n",
      " 2   word_freq_all               4601 non-null   float64\n",
      " 3   word_freq_3d                4601 non-null   float64\n",
      " 4   word_freq_our               4601 non-null   float64\n",
      " 5   word_freq_over              4601 non-null   float64\n",
      " 6   word_freq_remove            4601 non-null   float64\n",
      " 7   word_freq_internet          4601 non-null   float64\n",
      " 8   word_freq_order             4601 non-null   float64\n",
      " 9   word_freq_mail              4601 non-null   float64\n",
      " 10  word_freq_receive           4601 non-null   float64\n",
      " 11  word_freq_\"will             4601 non-null   float64\n",
      " 12  word_freq_people            4601 non-null   float64\n",
      " 13  word_freq_report            4601 non-null   float64\n",
      " 14  word_freq_addresses         4601 non-null   float64\n",
      " 15  word_freq_free              4601 non-null   float64\n",
      " 16  word_freq_business          4601 non-null   float64\n",
      " 17  word_freq_email             4601 non-null   float64\n",
      " 18  word_freq_you               4601 non-null   float64\n",
      " 19  word_freq_credit            4601 non-null   float64\n",
      " 20  word_freq_your              4601 non-null   float64\n",
      " 21  word_freq_font              4601 non-null   float64\n",
      " 22  word_freq_000               4601 non-null   float64\n",
      " 23  word_freq_money             4601 non-null   float64\n",
      " 24  word_freq_hp                4601 non-null   float64\n",
      " 25  word_freq_hpl               4601 non-null   float64\n",
      " 26  word_freq_george            4601 non-null   float64\n",
      " 27  word_freq_650               4601 non-null   float64\n",
      " 28  word_freq_lab               4601 non-null   float64\n",
      " 29  word_freq_labs              4601 non-null   float64\n",
      " 30  word_freq_telnet            4601 non-null   float64\n",
      " 31  word_freq_857               4601 non-null   float64\n",
      " 32  word_freq_data              4601 non-null   float64\n",
      " 33  word_freq_415               4601 non-null   float64\n",
      " 34  word_freq_85                4601 non-null   float64\n",
      " 35  word_freq_technology        4601 non-null   float64\n",
      " 36  word_freq_1999              4601 non-null   float64\n",
      " 37  word_freq_parts             4601 non-null   float64\n",
      " 38  word_freq_pm                4601 non-null   float64\n",
      " 39  word_freq_direct            4601 non-null   float64\n",
      " 40  word_freq_cs                4601 non-null   float64\n",
      " 41  word_freq_meeting           4601 non-null   float64\n",
      " 42  word_freq_original          4601 non-null   float64\n",
      " 43  word_freq_project           4601 non-null   float64\n",
      " 44  word_freq_re                4601 non-null   float64\n",
      " 45  word_freq_edu               4601 non-null   float64\n",
      " 46  word_freq_table             4601 non-null   float64\n",
      " 47  word_freq_conference        4601 non-null   float64\n",
      " 48  char_freq_;                 4601 non-null   float64\n",
      " 49  char_freq_(                 4601 non-null   float64\n",
      " 50  char_freq_[                 4601 non-null   float64\n",
      " 51  char_freq_!                 4601 non-null   float64\n",
      " 52  char_freq_$                 4601 non-null   float64\n",
      " 53  char_freq_#                 4601 non-null   float64\n",
      " 54  capital_run_length_average  4601 non-null   float64\n",
      " 55  capital_run_length_longest  4601 non-null   int64  \n",
      " 56  capital_run_length_total    4601 non-null   int64  \n",
      " 57  Class                       4601 non-null   int64  \n",
      "dtypes: float64(55), int64(3)\n",
      "memory usage: 2.0 MB\n"
     ]
    },
    {
     "data": {
      "text/plain": [
       "(4601, 58)"
      ]
     },
     "execution_count": 6,
     "metadata": {},
     "output_type": "execute_result"
    }
   ],
   "source": [
    "spambase.info()\n",
    "spambase.shape"
   ]
  },
  {
   "cell_type": "markdown",
   "id": "be26bef8",
   "metadata": {},
   "source": [
    "### Splitting the Features and Target"
   ]
  },
  {
   "cell_type": "code",
   "execution_count": 7,
   "id": "e40a4564",
   "metadata": {},
   "outputs": [],
   "source": [
    "target = spambase[\"Class\"] ## (4601,1)\n",
    "features = spambase.drop(\"Class\", axis=1) ## (4601, 57)"
   ]
  },
  {
   "cell_type": "markdown",
   "id": "9a8f2e8e",
   "metadata": {},
   "source": [
    "### Finding correlation between features"
   ]
  },
  {
   "cell_type": "code",
   "execution_count": 8,
   "id": "f7ed213a",
   "metadata": {},
   "outputs": [
    {
     "data": {
      "text/plain": [
       "word_freq_415  word_freq_857    0.996066\n",
       "dtype: float64"
      ]
     },
     "execution_count": 8,
     "metadata": {},
     "output_type": "execute_result"
    }
   ],
   "source": [
    "corr_matrix = features.corr().abs()\n",
    "np.fill_diagonal(corr_matrix.values, 0)\n",
    "\n",
    "max_corr = corr_matrix.unstack().sort_values(ascending=False).drop_duplicates()\n",
    " \n",
    "max_corr[max_corr > 0.85]\n",
    "## only one pair of highly correlated feature \n",
    "## (\"word_freq_144\" and \"word_freq_857\"); corr = 0.996\n",
    "## we wont drop it as tree based models arent affected by multicollinearity"
   ]
  },
  {
   "cell_type": "markdown",
   "id": "ea49a615",
   "metadata": {},
   "source": [
    "### Splitting the dataset into the Training, Validation and Test set"
   ]
  },
  {
   "cell_type": "code",
   "execution_count": 9,
   "id": "3c161b6f",
   "metadata": {},
   "outputs": [],
   "source": [
    "X_train, X_test, y_train, y_test = train_test_split(features, target, test_size=0.1, random_state=42) ## 90% training and 10% testing"
   ]
  },
  {
   "cell_type": "code",
   "execution_count": 10,
   "id": "8f8aeead",
   "metadata": {},
   "outputs": [],
   "source": [
    "X_train, X_val, y_train, y_val = train_test_split(X_train, y_train, test_size=0.2, random_state=43) ## 80% training and 20% validation\n"
   ]
  },
  {
   "cell_type": "code",
   "execution_count": 11,
   "id": "e63dcc02",
   "metadata": {},
   "outputs": [
    {
     "data": {
      "text/plain": [
       "((3312, 57), (3312,), (828, 57), (828,), (461, 57), (461,))"
      ]
     },
     "execution_count": 11,
     "metadata": {},
     "output_type": "execute_result"
    }
   ],
   "source": [
    "X_train.shape, y_train.shape, X_val.shape, y_val.shape, X_test.shape, y_test.shape"
   ]
  },
  {
   "cell_type": "markdown",
   "id": "02c8d76f",
   "metadata": {},
   "source": [
    "#### Keeping the target sets in the DataFrame format"
   ]
  },
  {
   "cell_type": "code",
   "execution_count": 12,
   "id": "fb594fb8",
   "metadata": {},
   "outputs": [],
   "source": [
    "y_train_df, y_val_df, y_test_df = y_train, y_val, y_test"
   ]
  },
  {
   "cell_type": "markdown",
   "id": "94768008",
   "metadata": {},
   "source": [
    "#### Converting the target sets into 1D numpy arrays"
   ]
  },
  {
   "cell_type": "code",
   "execution_count": 13,
   "id": "e45dfe88",
   "metadata": {},
   "outputs": [
    {
     "data": {
      "text/plain": [
       "((3312, 57), (3312,), (828, 57), (828,), (461, 57), (461,))"
      ]
     },
     "execution_count": 13,
     "metadata": {},
     "output_type": "execute_result"
    }
   ],
   "source": [
    "# tree based models works better with numerical data,\n",
    "# so we need to convert the Dataframe to numerical data\n",
    "\n",
    "training_set = [y_train, y_val, y_test]\n",
    "train_set_ndarray = []\n",
    "for i in training_set:\n",
    "    i = i.to_numpy().ravel()\n",
    "    train_set_ndarray.append(i)\n",
    "\n",
    "y_train, y_val, y_test = train_set_ndarray\n",
    "# type(X_train)\n",
    "X_train.shape, y_train.shape, X_val.shape, y_val.shape, X_test.shape, y_test.shape"
   ]
  },
  {
   "cell_type": "markdown",
   "id": "05c2bccb",
   "metadata": {},
   "source": [
    "## Defining Functions for Model Evaluation"
   ]
  },
  {
   "cell_type": "markdown",
   "id": "875b20d1",
   "metadata": {},
   "source": [
    "#### Confusion Matrix"
   ]
  },
  {
   "cell_type": "code",
   "execution_count": 14,
   "id": "9f7163fc",
   "metadata": {},
   "outputs": [],
   "source": [
    "def plot_confusion_matrix(cm, ax=None):\n",
    "    \"\"\"\n",
    "    Plots a confusion matrix using seaborn heatmap.\n",
    "    \"\"\"\n",
    "    plt.figure(figsize=(4,3))\n",
    "    sns.heatmap(cm, annot=True, fmt='d', cmap='Blues', xticklabels=['Ham','Spam'], yticklabels=['Ham','Spam'], ax=ax)\n",
    "    \n",
    "    if ax==None:\n",
    "        plt.show()\n",
    "    else:\n",
    "        ax.set_xlabel('Predicted')\n",
    "        ax.set_ylabel('Actual')\n",
    "        ax.set_title('Confusion Matrix')\n",
    "    "
   ]
  },
  {
   "cell_type": "markdown",
   "id": "6167df93",
   "metadata": {},
   "source": [
    "#### Learning Curve"
   ]
  },
  {
   "cell_type": "code",
   "execution_count": 15,
   "id": "f906f873",
   "metadata": {},
   "outputs": [],
   "source": [
    "def plot_learning_curve(estimator, X, y, cv=5, ax=None, scoring='accuracy', train_sizes=np.linspace(0.1, 1.0, 5), n_jobs:int = -1):\n",
    "    \"\"\"\n",
    "    Plots the learning curve of a model using matplotlib.pyplot\n",
    "    \"\"\"\n",
    "    train_sizes, train_scores, val_scores = learning_curve(\n",
    "        estimator, X, y,\n",
    "        train_sizes=train_sizes,\n",
    "        cv=cv,\n",
    "        scoring=scoring,\n",
    "        n_jobs=n_jobs,\n",
    "        shuffle=True,\n",
    "        random_state=42\n",
    "    )\n",
    "\n",
    "    # Calculate mean and standard deviation\n",
    "    train_mean = np.mean(train_scores, axis=1)\n",
    "    train_std = np.std(train_scores, axis=1)\n",
    "    val_mean = np.mean(val_scores, axis=1)\n",
    "    val_std = np.std(val_scores, axis=1)\n",
    "\n",
    "    # Calculate errors\n",
    "    train_scores_ = train_mean\n",
    "    val_scores_ = val_mean\n",
    "\n",
    "    # Plot the learning curve\n",
    "    plt.figure(figsize=(4,3))\n",
    "    ax.plot(train_sizes, train_scores_, 'o-', label='Training Score')\n",
    "    ax.fill_between(train_sizes, train_scores_ - train_std, train_scores_ + train_std, alpha=0.1)\n",
    "\n",
    "    ax.plot(train_sizes, val_scores_, 'o-', label='Validation Score')\n",
    "    ax.fill_between(train_sizes, val_scores_ - val_std, val_scores_ + val_std, alpha=0.1)\n",
    "\n",
    "    ax.set_xlabel('Training Set Size')\n",
    "    ax.set_ylabel(scoring.capitalize())\n",
    "    ax.set_title('Learning Curve')\n",
    "    ax.legend(loc='best')\n",
    "    ax.grid()"
   ]
  },
  {
   "cell_type": "markdown",
   "id": "c904912d",
   "metadata": {},
   "source": [
    "### Model Evaluation plot"
   ]
  },
  {
   "cell_type": "code",
   "execution_count": 16,
   "id": "61e95b3d",
   "metadata": {},
   "outputs": [],
   "source": [
    "def plot_model_evaluation(model, cm, n_row:int, n_col:int, n_jobs:int=-1): \n",
    "    \"\"\"\n",
    "    Plots the confusion matrix and learning curve of a model\n",
    "    \"\"\"\n",
    "    fig, axs = plt.subplots(n_row ,n_col, figsize=(10,4))\n",
    "    plot_confusion_matrix(cm,ax=axs[0])\n",
    "    plot_learning_curve(model, X_train.to_numpy(), y_train, ax=axs[1], n_jobs=n_jobs)\n",
    "    plt.tight_layout()"
   ]
  },
  {
   "cell_type": "markdown",
   "id": "5580d304",
   "metadata": {},
   "source": [
    "## Training the Classifier Models"
   ]
  },
  {
   "cell_type": "markdown",
   "id": "9e97c774",
   "metadata": {},
   "source": [
    "**Defining CV Strategy**"
   ]
  },
  {
   "cell_type": "code",
   "execution_count": 17,
   "id": "d3bb687a",
   "metadata": {},
   "outputs": [],
   "source": [
    "cv_kfold = KFold(n_splits=5, shuffle=True, random_state=42)"
   ]
  },
  {
   "cell_type": "markdown",
   "id": "5efc1f28",
   "metadata": {},
   "source": [
    "### Logistic Regression"
   ]
  },
  {
   "cell_type": "markdown",
   "id": "c9add333",
   "metadata": {},
   "source": [
    "#### Cross Validation"
   ]
  },
  {
   "cell_type": "code",
   "execution_count": 18,
   "id": "e7f07b0e",
   "metadata": {},
   "outputs": [
    {
     "name": "stdout",
     "output_type": "stream",
     "text": [
      "Best Parameters = {'solver': 'liblinear', 'max_iter': 300, 'C': np.float64(1.3738237958832638)}\n",
      "\n",
      "Best Training score = 0.9281399661886599\n",
      "Best Validation score = 0.928743961352657\n"
     ]
    }
   ],
   "source": [
    "params_linreg = {\n",
    "    'C': np.logspace(-4, 4, 30),\n",
    "    'max_iter': [100, 200, 300],\n",
    "    'solver': ['liblinear'],\n",
    "}\n",
    "\n",
    "logreg_cv = RandomizedSearchCV(\n",
    "    \n",
    "    estimator=LogisticRegression(random_state=42),     \n",
    "    param_distributions=params_linreg, \n",
    "    n_iter=80, cv=cv_kfold, \n",
    "    verbose=0, n_jobs=-1, random_state=42)\n",
    "\n",
    "logreg_cv.fit(X_train, y_train_df) \n",
    "\n",
    "print(f'Best Parameters = {logreg_cv.best_params_}')\n",
    "\n",
    "print(f'\\nBest Training score = {logreg_cv.best_score_}') # 92.8140%\n",
    "print(f'Best Validation score = {logreg_cv.score(X_val, y_val)}') # 92.8744%"
   ]
  },
  {
   "cell_type": "markdown",
   "id": "1ae7f413",
   "metadata": {},
   "source": [
    "#### Fitting the model into the training set"
   ]
  },
  {
   "cell_type": "code",
   "execution_count": 19,
   "id": "68c35ce4",
   "metadata": {},
   "outputs": [
    {
     "name": "stdout",
     "output_type": "stream",
     "text": [
      "Training Accuracy: 0.9311594202898551\n",
      "Validation Accuracy: 0.9299516908212561\n"
     ]
    }
   ],
   "source": [
    "logreg_clf = LogisticRegression(C=1.37, solver='liblinear')\n",
    "logreg_clf.fit(X_train, y_train)\n",
    "\n",
    "logreg_train_score = logreg_clf.score(X_train, y_train)\n",
    "logreg_val_score = logreg_clf.score(X_val, y_val)\n",
    "\n",
    "print(f'Training Accuracy: {logreg_train_score}') # 93.1159%\n",
    "print(f'Validation Accuracy: {logreg_val_score}') # 92.9952% "
   ]
  },
  {
   "cell_type": "markdown",
   "id": "9278a25f",
   "metadata": {},
   "source": [
    "#### Plotting the Confusion matrix and Learnig curve"
   ]
  },
  {
   "cell_type": "code",
   "execution_count": 20,
   "id": "3e091deb",
   "metadata": {},
   "outputs": [],
   "source": [
    "y_val_pred_lr = logreg_clf.predict(X_val)\n",
    "cm = confusion_matrix(y_val,y_val_pred_lr)\n",
    "\n",
    "# sns.heatmap(cm, annot=True, fmt='d', cmap='Blues', xticklabels=['Ham','Spam'], yticklabels=['Ham','Spam'])\n",
    "# plot_confusion_matrix(cm,ax=axs[0])"
   ]
  },
  {
   "cell_type": "code",
   "execution_count": 21,
   "id": "8104ad1f",
   "metadata": {},
   "outputs": [
    {
     "data": {
      "image/png": "[encoded data removed]",
      "text/plain": [
       "<Figure size 1000x400 with 3 Axes>"
      ]
     },
     "metadata": {},
     "output_type": "display_data"
    },
    {
     "data": {
      "text/plain": [
       "<Figure size 400x300 with 0 Axes>"
      ]
     },
     "metadata": {},
     "output_type": "display_data"
    },
    {
     "data": {
      "text/plain": [
       "<Figure size 400x300 with 0 Axes>"
      ]
     },
     "metadata": {},
     "output_type": "display_data"
    }
   ],
   "source": [
    "plot_model_evaluation(logreg_clf, cm, n_row=1, n_col=2) # We have pre-defined this function to plot the confusion matrix and the learning curve in less code.\n",
    "\n",
    "# fig, axs = plt.subplots(1,2, figsize=(10,4))\n",
    "# plot_confusion_matrix(cm,ax=axs[0])\n",
    "# plot_learning_curve(logreg_clf, X_train, y_train, ax=axs[1])\n",
    "# plt.tight_layout()"
   ]
  },
  {
   "cell_type": "markdown",
   "id": "ee0efa4b",
   "metadata": {},
   "source": [
    "#### Classification Report"
   ]
  },
  {
   "cell_type": "code",
   "execution_count": 22,
   "id": "2a327a9f",
   "metadata": {},
   "outputs": [
    {
     "data": {
      "text/html": [
       "<div>\n",
       "<style scoped>\n",
       "    .dataframe tbody tr th:only-of-type {\n",
       "        vertical-align: middle;\n",
       "    }\n",
       "\n",
       "    .dataframe tbody tr th {\n",
       "        vertical-align: top;\n",
       "    }\n",
       "\n",
       "    .dataframe thead th {\n",
       "        text-align: right;\n",
       "    }\n",
       "</style>\n",
       "<table border=\"1\" class=\"dataframe\">\n",
       "  <thead>\n",
       "    <tr style=\"text-align: right;\">\n",
       "      <th></th>\n",
       "      <th>precision</th>\n",
       "      <th>recall</th>\n",
       "      <th>f1-score</th>\n",
       "      <th>support</th>\n",
       "    </tr>\n",
       "  </thead>\n",
       "  <tbody>\n",
       "    <tr>\n",
       "      <th>ham</th>\n",
       "      <td>0.938976</td>\n",
       "      <td>0.946429</td>\n",
       "      <td>0.942688</td>\n",
       "      <td>504.000000</td>\n",
       "    </tr>\n",
       "    <tr>\n",
       "      <th>spam</th>\n",
       "      <td>0.915625</td>\n",
       "      <td>0.904321</td>\n",
       "      <td>0.909938</td>\n",
       "      <td>324.000000</td>\n",
       "    </tr>\n",
       "    <tr>\n",
       "      <th>accuracy</th>\n",
       "      <td>0.929952</td>\n",
       "      <td>0.929952</td>\n",
       "      <td>0.929952</td>\n",
       "      <td>0.929952</td>\n",
       "    </tr>\n",
       "    <tr>\n",
       "      <th>macro avg</th>\n",
       "      <td>0.927301</td>\n",
       "      <td>0.925375</td>\n",
       "      <td>0.926313</td>\n",
       "      <td>828.000000</td>\n",
       "    </tr>\n",
       "    <tr>\n",
       "      <th>weighted avg</th>\n",
       "      <td>0.929839</td>\n",
       "      <td>0.929952</td>\n",
       "      <td>0.929873</td>\n",
       "      <td>828.000000</td>\n",
       "    </tr>\n",
       "  </tbody>\n",
       "</table>\n",
       "</div>"
      ],
      "text/plain": [
       "              precision    recall  f1-score     support\n",
       "ham            0.938976  0.946429  0.942688  504.000000\n",
       "spam           0.915625  0.904321  0.909938  324.000000\n",
       "accuracy       0.929952  0.929952  0.929952    0.929952\n",
       "macro avg      0.927301  0.925375  0.926313  828.000000\n",
       "weighted avg   0.929839  0.929952  0.929873  828.000000"
      ]
     },
     "execution_count": 22,
     "metadata": {},
     "output_type": "execute_result"
    }
   ],
   "source": [
    "pd.DataFrame(classification_report(y_val, y_val_pred_lr, target_names=[\"ham\", \"spam\"], output_dict=True)).T"
   ]
  },
  {
   "cell_type": "markdown",
   "id": "b17f325f",
   "metadata": {},
   "source": [
    "### Decision Tree Classifier"
   ]
  },
  {
   "cell_type": "markdown",
   "id": "93c6947e",
   "metadata": {},
   "source": [
    "#### Cross Validation"
   ]
  },
  {
   "cell_type": "code",
   "execution_count": 23,
   "id": "369ecf03",
   "metadata": {},
   "outputs": [
    {
     "name": "stdout",
     "output_type": "stream",
     "text": [
      "Fitting 5 folds for each of 100 candidates, totalling 500 fits\n",
      "Best Parameters = {'min_samples_split': np.int64(50), 'min_samples_leaf': np.int64(13), 'max_leaf_nodes': 30, 'max_features': None, 'max_depth': 20, 'criterion': 'entropy'}\n",
      "\n",
      "Best Training score = 0.902479802053287\n",
      "Best Validation score = 0.9335748792270532\n"
     ]
    }
   ],
   "source": [
    "param_dist_tree = {\n",
    "    'max_depth': [3, 5, 7, 10, 15, 20, None],\n",
    "    'min_samples_split': np.arange(2, 51, 2),\n",
    "    'min_samples_leaf': np.arange(1, 51, 2),\n",
    "    'max_features': ['sqrt', 'log2', None],\n",
    "    'max_leaf_nodes': [10, 20, 30, 50, None],\n",
    "    'criterion': ['gini', 'entropy']\n",
    "}\n",
    "\n",
    "tree_cv = RandomizedSearchCV(\n",
    "    estimator=DecisionTreeClassifier(random_state=42),\n",
    "    param_distributions=param_dist_tree,\n",
    "    n_iter=100,\n",
    "    cv=5,\n",
    "    scoring='accuracy',\n",
    "    n_jobs=-1,\n",
    "    random_state=42,\n",
    "    verbose=1)\n",
    "\n",
    "tree_cv.fit(X_train, y_train) \n",
    "\n",
    "print(f'Best Parameters = {tree_cv.best_params_}')\n",
    "\n",
    "print(f'\\nBest Training score = {tree_cv.best_score_}') # 90.2480%\n",
    "print(f'Best Validation score = {tree_cv.score(X_val, y_val)}') # 93.3575%"
   ]
  },
  {
   "cell_type": "markdown",
   "id": "7bbc6988",
   "metadata": {},
   "source": [
    "#### Fitting the model into the training set"
   ]
  },
  {
   "cell_type": "code",
   "execution_count": 24,
   "id": "aadc5430",
   "metadata": {},
   "outputs": [
    {
     "name": "stdout",
     "output_type": "stream",
     "text": [
      "Training score = 0.928743961352657\n",
      "Validation score = 0.9335748792270532\n"
     ]
    }
   ],
   "source": [
    "# tree_clf = DecisionTreeClassifier(criterion='entropy', max_depth=30, max_features=None, min_samples_leaf=10, min_samples_split=5, random_state=42)\n",
    "\n",
    "tree_clf = DecisionTreeClassifier(\n",
    "    max_depth=8,\n",
    "    min_samples_split=10, \n",
    "    min_samples_leaf=30,  \n",
    "    max_features=\"sqrt\",  \n",
    "    max_leaf_nodes=30,     \n",
    "    criterion='entropy',  \n",
    "    random_state=42)\n",
    "\n",
    "tree_clf.fit(X_train, y_train) \n",
    "\n",
    "print(f'Training score = {tree_cv.score(X_train, y_train)}') # 92.8744%\n",
    "print(f'Validation score = {tree_cv.score(X_val, y_val)}') # 93.3575%"
   ]
  },
  {
   "cell_type": "markdown",
   "id": "e868cc53",
   "metadata": {},
   "source": [
    "#### Plotting the Model Evaluation plots"
   ]
  },
  {
   "cell_type": "code",
   "execution_count": 25,
   "id": "412a3891",
   "metadata": {},
   "outputs": [
    {
     "data": {
      "image/png": "[encoded data removed]",
      "text/plain": [
       "<Figure size 1000x400 with 3 Axes>"
      ]
     },
     "metadata": {},
     "output_type": "display_data"
    },
    {
     "data": {
      "text/plain": [
       "<Figure size 400x300 with 0 Axes>"
      ]
     },
     "metadata": {},
     "output_type": "display_data"
    },
    {
     "data": {
      "text/plain": [
       "<Figure size 400x300 with 0 Axes>"
      ]
     },
     "metadata": {},
     "output_type": "display_data"
    }
   ],
   "source": [
    "y_val_pred_tree = tree_clf.predict(X_val)\n",
    "cm = confusion_matrix(y_val,y_val_pred_tree)\n",
    "\n",
    "plot_model_evaluation(tree_clf, cm, n_row=1, n_col=2) # we reject the decision tree model, as its overfitting pretty badly"
   ]
  },
  {
   "cell_type": "markdown",
   "id": "e23e021a",
   "metadata": {},
   "source": [
    "#### Classification Report"
   ]
  },
  {
   "cell_type": "code",
   "execution_count": 26,
   "id": "e34aa141",
   "metadata": {},
   "outputs": [
    {
     "data": {
      "text/html": [
       "<div>\n",
       "<style scoped>\n",
       "    .dataframe tbody tr th:only-of-type {\n",
       "        vertical-align: middle;\n",
       "    }\n",
       "\n",
       "    .dataframe tbody tr th {\n",
       "        vertical-align: top;\n",
       "    }\n",
       "\n",
       "    .dataframe thead th {\n",
       "        text-align: right;\n",
       "    }\n",
       "</style>\n",
       "<table border=\"1\" class=\"dataframe\">\n",
       "  <thead>\n",
       "    <tr style=\"text-align: right;\">\n",
       "      <th></th>\n",
       "      <th>precision</th>\n",
       "      <th>recall</th>\n",
       "      <th>f1-score</th>\n",
       "      <th>support</th>\n",
       "    </tr>\n",
       "  </thead>\n",
       "  <tbody>\n",
       "    <tr>\n",
       "      <th>ham</th>\n",
       "      <td>0.853357</td>\n",
       "      <td>0.958333</td>\n",
       "      <td>0.902804</td>\n",
       "      <td>504.000000</td>\n",
       "    </tr>\n",
       "    <tr>\n",
       "      <th>spam</th>\n",
       "      <td>0.919847</td>\n",
       "      <td>0.743827</td>\n",
       "      <td>0.822526</td>\n",
       "      <td>324.000000</td>\n",
       "    </tr>\n",
       "    <tr>\n",
       "      <th>accuracy</th>\n",
       "      <td>0.874396</td>\n",
       "      <td>0.874396</td>\n",
       "      <td>0.874396</td>\n",
       "      <td>0.874396</td>\n",
       "    </tr>\n",
       "    <tr>\n",
       "      <th>macro avg</th>\n",
       "      <td>0.886602</td>\n",
       "      <td>0.851080</td>\n",
       "      <td>0.862665</td>\n",
       "      <td>828.000000</td>\n",
       "    </tr>\n",
       "    <tr>\n",
       "      <th>weighted avg</th>\n",
       "      <td>0.879375</td>\n",
       "      <td>0.874396</td>\n",
       "      <td>0.871391</td>\n",
       "      <td>828.000000</td>\n",
       "    </tr>\n",
       "  </tbody>\n",
       "</table>\n",
       "</div>"
      ],
      "text/plain": [
       "              precision    recall  f1-score     support\n",
       "ham            0.853357  0.958333  0.902804  504.000000\n",
       "spam           0.919847  0.743827  0.822526  324.000000\n",
       "accuracy       0.874396  0.874396  0.874396    0.874396\n",
       "macro avg      0.886602  0.851080  0.862665  828.000000\n",
       "weighted avg   0.879375  0.874396  0.871391  828.000000"
      ]
     },
     "execution_count": 26,
     "metadata": {},
     "output_type": "execute_result"
    }
   ],
   "source": [
    "pd.DataFrame(classification_report(y_val, y_val_pred_tree, target_names=[\"ham\", \"spam\"], output_dict=True)).T"
   ]
  },
  {
   "cell_type": "markdown",
   "id": "12792a09",
   "metadata": {},
   "source": [
    "## Using Ensemble Models"
   ]
  },
  {
   "cell_type": "markdown",
   "id": "20ddb64c",
   "metadata": {},
   "source": [
    "### Random Forest Classifier"
   ]
  },
  {
   "cell_type": "markdown",
   "id": "8319a165",
   "metadata": {},
   "source": [
    "#### Cross Validation"
   ]
  },
  {
   "cell_type": "code",
   "execution_count": 27,
   "id": "90a3bdc4",
   "metadata": {},
   "outputs": [
    {
     "name": "stdout",
     "output_type": "stream",
     "text": [
      "Fitting 5 folds for each of 10 candidates, totalling 50 fits\n",
      "Best Parameters = {'n_estimators': 300, 'min_samples_split': 2, 'min_samples_leaf': 1, 'max_features': 'log2', 'max_depth': 30, 'criterion': 'gini', 'bootstrap': True}\n",
      "\n",
      "Best Training score = 0.95048461401758\n",
      "Best Validation score = 0.967391304347826\n",
      "\n",
      "Validation RMSE = 0.1805787796286538\n"
     ]
    }
   ],
   "source": [
    "params_rf = {\n",
    "    'n_estimators': [100, 200, 300, 500],\n",
    "    'max_depth': [10, 20, 30, None],\n",
    "    'min_samples_split': [2, 5, 10],\n",
    "    'min_samples_leaf': [1, 2, 4],\n",
    "    'max_features': ['sqrt', 'log2', None],\n",
    "    'bootstrap': [True, False],\n",
    "    'criterion': ['gini', 'entropy']\n",
    "}\n",
    "\n",
    "cv_stratified_kfold = StratifiedKFold(n_splits=5, shuffle=True, random_state=42)\n",
    "\n",
    "rf_cv = RandomizedSearchCV(estimator=RandomForestClassifier(random_state=42), param_distributions=params_rf, n_iter=10, cv=cv_stratified_kfold, verbose=1, n_jobs=-1)\n",
    "\n",
    "rf_cv.fit(X_train, y_train)\n",
    "print(f'Best Parameters = {rf_cv.best_params_}')\n",
    "print(f'\\nBest Training score = {rf_cv.best_score_}')\n",
    "print(f'Best Validation score = {rf_cv.score(X_val, y_val)}')\n",
    "print(f'\\nValidation RMSE = {rmse(y_val, rf_cv.predict(X_val))}')"
   ]
  },
  {
   "cell_type": "markdown",
   "id": "e22b0f24",
   "metadata": {},
   "source": [
    "#### Fitting the model into the training set"
   ]
  },
  {
   "cell_type": "code",
   "execution_count": 28,
   "id": "ce825408",
   "metadata": {},
   "outputs": [
    {
     "name": "stdout",
     "output_type": "stream",
     "text": [
      "Training score = 0.9317632850241546\n",
      "Validation score = 0.9420289855072463\n",
      "\n",
      "Validation RMSE = 0.2407717061715384\n"
     ]
    }
   ],
   "source": [
    "# # Using a simpler RandomForestClassifier\n",
    "# rf_clf = RandomForestClassifier(\n",
    "#     n_estimators=100, min_samples_split=20, min_samples_leaf=10, max_features=\"sqrt\", \n",
    "#     max_depth=10, bootstrap=True, criterion='entropy', random_state=42)\n",
    "\n",
    "\n",
    "# # Using the best parameters from the RandomizedSearchCV\n",
    "# rf_clf = RandomForestClassifier(\n",
    "#     min_samples_split=50, max_depth=8,\n",
    "#     bootstrap=True, criterion='entropy',\n",
    "#     max_features='log2', n_estimators=500, random_state=42)\n",
    "\n",
    "# # More aggressive regularization\n",
    "rf_clf = RandomForestClassifier(\n",
    "    n_estimators=100,      # Equal number of trees\n",
    "    max_depth=8,           # Shallower trees\n",
    "    min_samples_split=50,  # Higher threshold for splitting\n",
    "    min_samples_leaf=30,   # More samples required in leaf nodes\n",
    "    max_features=\"sqrt\",   # Use \"sqrt\" for feature selection\n",
    "    max_leaf_nodes=30,     # Limit number of leaf nodes\n",
    "    random_state=42)\n",
    "\n",
    "\n",
    "rf_clf.fit(X_train, y_train)\n",
    "\n",
    "print(f'Training score = {rf_clf.score(X_train, y_train)}') # 93.1763%\n",
    "print(f'Validation score = {rf_clf.score(X_val, y_val)}') # 94.2029%\n",
    "print(f'\\nValidation RMSE = {rmse(y_val, rf_clf.predict(X_val))}') # 0.2408"
   ]
  },
  {
   "cell_type": "markdown",
   "id": "da9eaf46",
   "metadata": {},
   "source": [
    "#### Plotting the model evaluation plots"
   ]
  },
  {
   "cell_type": "code",
   "execution_count": 29,
   "id": "4e22cc98",
   "metadata": {},
   "outputs": [
    {
     "data": {
      "image/png": "[encoded data removed]",
      "text/plain": [
       "<Figure size 1000x400 with 3 Axes>"
      ]
     },
     "metadata": {},
     "output_type": "display_data"
    },
    {
     "data": {
      "text/plain": [
       "<Figure size 400x300 with 0 Axes>"
      ]
     },
     "metadata": {},
     "output_type": "display_data"
    },
    {
     "data": {
      "text/plain": [
       "<Figure size 400x300 with 0 Axes>"
      ]
     },
     "metadata": {},
     "output_type": "display_data"
    }
   ],
   "source": [
    "y_val_pred_rf = rf_clf.predict(X_val)\n",
    "cm = confusion_matrix(y_val,y_val_pred_rf)\n",
    "\n",
    "plot_model_evaluation(rf_clf, cm, 1, 2)"
   ]
  },
  {
   "cell_type": "markdown",
   "id": "3280446e",
   "metadata": {},
   "source": [
    "#### Classification Report"
   ]
  },
  {
   "cell_type": "code",
   "execution_count": 30,
   "id": "e69dadbd",
   "metadata": {},
   "outputs": [
    {
     "data": {
      "text/html": [
       "<div>\n",
       "<style scoped>\n",
       "    .dataframe tbody tr th:only-of-type {\n",
       "        vertical-align: middle;\n",
       "    }\n",
       "\n",
       "    .dataframe tbody tr th {\n",
       "        vertical-align: top;\n",
       "    }\n",
       "\n",
       "    .dataframe thead th {\n",
       "        text-align: right;\n",
       "    }\n",
       "</style>\n",
       "<table border=\"1\" class=\"dataframe\">\n",
       "  <thead>\n",
       "    <tr style=\"text-align: right;\">\n",
       "      <th></th>\n",
       "      <th>precision</th>\n",
       "      <th>recall</th>\n",
       "      <th>f1-score</th>\n",
       "      <th>support</th>\n",
       "    </tr>\n",
       "  </thead>\n",
       "  <tbody>\n",
       "    <tr>\n",
       "      <th>ham</th>\n",
       "      <td>0.938462</td>\n",
       "      <td>0.968254</td>\n",
       "      <td>0.953125</td>\n",
       "      <td>504.000000</td>\n",
       "    </tr>\n",
       "    <tr>\n",
       "      <th>spam</th>\n",
       "      <td>0.948052</td>\n",
       "      <td>0.901235</td>\n",
       "      <td>0.924051</td>\n",
       "      <td>324.000000</td>\n",
       "    </tr>\n",
       "    <tr>\n",
       "      <th>accuracy</th>\n",
       "      <td>0.942029</td>\n",
       "      <td>0.942029</td>\n",
       "      <td>0.942029</td>\n",
       "      <td>0.942029</td>\n",
       "    </tr>\n",
       "    <tr>\n",
       "      <th>macro avg</th>\n",
       "      <td>0.943257</td>\n",
       "      <td>0.934744</td>\n",
       "      <td>0.938588</td>\n",
       "      <td>828.000000</td>\n",
       "    </tr>\n",
       "    <tr>\n",
       "      <th>weighted avg</th>\n",
       "      <td>0.942214</td>\n",
       "      <td>0.942029</td>\n",
       "      <td>0.941748</td>\n",
       "      <td>828.000000</td>\n",
       "    </tr>\n",
       "  </tbody>\n",
       "</table>\n",
       "</div>"
      ],
      "text/plain": [
       "              precision    recall  f1-score     support\n",
       "ham            0.938462  0.968254  0.953125  504.000000\n",
       "spam           0.948052  0.901235  0.924051  324.000000\n",
       "accuracy       0.942029  0.942029  0.942029    0.942029\n",
       "macro avg      0.943257  0.934744  0.938588  828.000000\n",
       "weighted avg   0.942214  0.942029  0.941748  828.000000"
      ]
     },
     "execution_count": 30,
     "metadata": {},
     "output_type": "execute_result"
    }
   ],
   "source": [
    "pd.DataFrame(classification_report(y_val, y_val_pred_rf, target_names=[\"ham\", \"spam\"], output_dict=True)).T"
   ]
  },
  {
   "cell_type": "markdown",
   "id": "d0ccfb2c",
   "metadata": {},
   "source": [
    "### XGBoost Classifier"
   ]
  },
  {
   "cell_type": "markdown",
   "id": "f38cb1c3",
   "metadata": {},
   "source": [
    "#### Fitting the model into the training set"
   ]
  },
  {
   "cell_type": "code",
   "execution_count": 31,
   "id": "b199c96a",
   "metadata": {},
   "outputs": [
    {
     "name": "stdout",
     "output_type": "stream",
     "text": [
      "Training score = 0.976147342995169\n",
      "Validation score = 0.9589371980676329\n"
     ]
    }
   ],
   "source": [
    "xgb_clf = XGBClassifier(\n",
    "    learning_rate=0.01, gamma=0.1, max_depth=7, n_estimators=450, seed=42)\n",
    "\n",
    "xgb_clf.fit(X_train.to_numpy(), y_train) # xgboost clf works with np array\n",
    "\n",
    "print(f'Training score = {xgb_clf.score(X_train.to_numpy(), y_train)}') # 97.6147%\n",
    "print(f'Validation score = {xgb_clf.score(X_val.to_numpy(), y_val)}') # 95.8937%"
   ]
  },
  {
   "cell_type": "markdown",
   "id": "b6c7ec82",
   "metadata": {},
   "source": [
    "#### Ploting the model evaluation plots"
   ]
  },
  {
   "cell_type": "code",
   "execution_count": 32,
   "id": "4d001d72",
   "metadata": {},
   "outputs": [
    {
     "data": {
      "image/png": "[encoded data removed]",
      "text/plain": [
       "<Figure size 1000x400 with 3 Axes>"
      ]
     },
     "metadata": {},
     "output_type": "display_data"
    },
    {
     "data": {
      "text/plain": [
       "<Figure size 400x300 with 0 Axes>"
      ]
     },
     "metadata": {},
     "output_type": "display_data"
    },
    {
     "data": {
      "text/plain": [
       "<Figure size 400x300 with 0 Axes>"
      ]
     },
     "metadata": {},
     "output_type": "display_data"
    }
   ],
   "source": [
    "y_val_pred_xgb = xgb_clf.predict(X_val.to_numpy())\n",
    "cm = confusion_matrix(y_val, y_val_pred_xgb)\n",
    "plot_model_evaluation(xgb_clf, cm, 1, 2, n_jobs=3)"
   ]
  },
  {
   "cell_type": "markdown",
   "id": "1feef325",
   "metadata": {},
   "source": [
    "#### Classification Report"
   ]
  },
  {
   "cell_type": "code",
   "execution_count": 33,
   "id": "54e66967",
   "metadata": {},
   "outputs": [
    {
     "data": {
      "text/html": [
       "<div>\n",
       "<style scoped>\n",
       "    .dataframe tbody tr th:only-of-type {\n",
       "        vertical-align: middle;\n",
       "    }\n",
       "\n",
       "    .dataframe tbody tr th {\n",
       "        vertical-align: top;\n",
       "    }\n",
       "\n",
       "    .dataframe thead th {\n",
       "        text-align: right;\n",
       "    }\n",
       "</style>\n",
       "<table border=\"1\" class=\"dataframe\">\n",
       "  <thead>\n",
       "    <tr style=\"text-align: right;\">\n",
       "      <th></th>\n",
       "      <th>precision</th>\n",
       "      <th>recall</th>\n",
       "      <th>f1-score</th>\n",
       "      <th>support</th>\n",
       "    </tr>\n",
       "  </thead>\n",
       "  <tbody>\n",
       "    <tr>\n",
       "      <th>ham</th>\n",
       "      <td>0.964427</td>\n",
       "      <td>0.968254</td>\n",
       "      <td>0.966337</td>\n",
       "      <td>504.000000</td>\n",
       "    </tr>\n",
       "    <tr>\n",
       "      <th>spam</th>\n",
       "      <td>0.950311</td>\n",
       "      <td>0.944444</td>\n",
       "      <td>0.947368</td>\n",
       "      <td>324.000000</td>\n",
       "    </tr>\n",
       "    <tr>\n",
       "      <th>accuracy</th>\n",
       "      <td>0.958937</td>\n",
       "      <td>0.958937</td>\n",
       "      <td>0.958937</td>\n",
       "      <td>0.958937</td>\n",
       "    </tr>\n",
       "    <tr>\n",
       "      <th>macro avg</th>\n",
       "      <td>0.957369</td>\n",
       "      <td>0.956349</td>\n",
       "      <td>0.956853</td>\n",
       "      <td>828.000000</td>\n",
       "    </tr>\n",
       "    <tr>\n",
       "      <th>weighted avg</th>\n",
       "      <td>0.958903</td>\n",
       "      <td>0.958937</td>\n",
       "      <td>0.958914</td>\n",
       "      <td>828.000000</td>\n",
       "    </tr>\n",
       "  </tbody>\n",
       "</table>\n",
       "</div>"
      ],
      "text/plain": [
       "              precision    recall  f1-score     support\n",
       "ham            0.964427  0.968254  0.966337  504.000000\n",
       "spam           0.950311  0.944444  0.947368  324.000000\n",
       "accuracy       0.958937  0.958937  0.958937    0.958937\n",
       "macro avg      0.957369  0.956349  0.956853  828.000000\n",
       "weighted avg   0.958903  0.958937  0.958914  828.000000"
      ]
     },
     "execution_count": 33,
     "metadata": {},
     "output_type": "execute_result"
    }
   ],
   "source": [
    "pd.DataFrame(classification_report(y_val, y_val_pred_xgb, target_names=[\"ham\", \"spam\"], output_dict=True)).T"
   ]
  },
  {
   "cell_type": "markdown",
   "id": "878c2140",
   "metadata": {},
   "source": [
    "### Gradient Boosting Classifier"
   ]
  },
  {
   "cell_type": "markdown",
   "id": "0d1c8687",
   "metadata": {},
   "source": [
    "#### Cross Validation"
   ]
  },
  {
   "cell_type": "code",
   "execution_count": 34,
   "id": "8d84aea0",
   "metadata": {},
   "outputs": [
    {
     "name": "stdout",
     "output_type": "stream",
     "text": [
      "Best Parameters = {'subsample': np.float64(1.0), 'n_estimators': np.int64(350), 'loss': 'exponential', 'learning_rate': np.float64(0.1), 'criterion': 'squared_error'}\n",
      "\n",
      "Best Training score = 0.9489740399994531\n",
      "Best Validation score = 0.961352657004831\n",
      "\n",
      "Validation RMSE = 0.19658927487319616\n"
     ]
    }
   ],
   "source": [
    "param_dist_grad = {\n",
    "    'loss': ['log_loss', 'exponential'],\n",
    "    'learning_rate': np.linspace(0.1, 1.0, num=10),\n",
    "    'criterion': ['friedman_mse', 'squared_error'],\n",
    "    'n_estimators': np.linspace(50, 500, num=10, dtype=int),\n",
    "    'subsample': np.linspace(0.01, 1.00, num=10),\n",
    "    # 'tol': [0.001, 0.0001]\n",
    "}\n",
    "\n",
    "grad_cv = RandomizedSearchCV(\n",
    "    estimator=GradientBoostingClassifier(random_state=42), \n",
    "    param_distributions=param_dist_grad, cv=cv_stratified_kfold, \n",
    "    n_iter=10, n_jobs=-1, random_state=42)\n",
    "\n",
    "grad_cv.fit(X_train.to_numpy(), y_train)\n",
    "\n",
    "print(f'Best Parameters = {grad_cv.best_params_}')\n",
    "\n",
    "print(f'\\nBest Training score = {grad_cv.best_score_}') # 94.8974%\n",
    "print(f'Best Validation score = {grad_cv.score(X_val.to_numpy(), y_val)}') # 96.1353%\n",
    "\n",
    "print(f'\\nValidation RMSE = {rmse(y_val, grad_cv.predict(X_val.to_numpy()))}') # 0.1966"
   ]
  },
  {
   "cell_type": "markdown",
   "id": "f1e9c79f",
   "metadata": {},
   "source": [
    "#### Fitting the model into the training set"
   ]
  },
  {
   "cell_type": "code",
   "execution_count": 35,
   "id": "29f07088",
   "metadata": {},
   "outputs": [
    {
     "name": "stdout",
     "output_type": "stream",
     "text": [
      "\n",
      "Training score = 0.971316425120773\n",
      "Validation score = 0.9565217391304348\n",
      "\n",
      "RMSE = 0.20851441405707477\n"
     ]
    }
   ],
   "source": [
    "grad_clf = GradientBoostingClassifier(n_estimators=250, criterion='friedman_mse', loss='exponential', learning_rate=0.1, subsample=0.6, random_state=42)\n",
    "\n",
    "grad_clf.fit(X_train.to_numpy(), y_train)\n",
    "\n",
    "print(f'\\nTraining score = {grad_clf.score(X_train.to_numpy(), y_train)}') # 97.1316%\n",
    "print(f'Validation score = {grad_clf.score(X_val.to_numpy(), y_val)}') # 95.6522%\n",
    "\n",
    "y_val_pred_grad = grad_clf.predict(X_val.to_numpy())\n",
    "print(f'\\nRMSE = {rmse(y_val, y_val_pred_grad)}') # 0.2085"
   ]
  },
  {
   "cell_type": "markdown",
   "id": "3582cd49",
   "metadata": {},
   "source": [
    "#### Plotting the model evaluation plots"
   ]
  },
  {
   "cell_type": "code",
   "execution_count": 36,
   "id": "addadc2a",
   "metadata": {},
   "outputs": [
    {
     "data": {
      "image/png": "[encoded data removed]",
      "text/plain": [
       "<Figure size 1000x400 with 3 Axes>"
      ]
     },
     "metadata": {},
     "output_type": "display_data"
    },
    {
     "data": {
      "text/plain": [
       "<Figure size 400x300 with 0 Axes>"
      ]
     },
     "metadata": {},
     "output_type": "display_data"
    },
    {
     "data": {
      "text/plain": [
       "<Figure size 400x300 with 0 Axes>"
      ]
     },
     "metadata": {},
     "output_type": "display_data"
    }
   ],
   "source": [
    "cm=confusion_matrix(y_val_pred_grad, y_val)\n",
    "\n",
    "plot_model_evaluation(grad_clf, cm, 1, 2)"
   ]
  },
  {
   "cell_type": "markdown",
   "id": "6da9a89f",
   "metadata": {},
   "source": [
    "#### Classification Report"
   ]
  },
  {
   "cell_type": "code",
   "execution_count": 37,
   "id": "b85c576f",
   "metadata": {},
   "outputs": [
    {
     "data": {
      "text/html": [
       "<div>\n",
       "<style scoped>\n",
       "    .dataframe tbody tr th:only-of-type {\n",
       "        vertical-align: middle;\n",
       "    }\n",
       "\n",
       "    .dataframe tbody tr th {\n",
       "        vertical-align: top;\n",
       "    }\n",
       "\n",
       "    .dataframe thead th {\n",
       "        text-align: right;\n",
       "    }\n",
       "</style>\n",
       "<table border=\"1\" class=\"dataframe\">\n",
       "  <thead>\n",
       "    <tr style=\"text-align: right;\">\n",
       "      <th></th>\n",
       "      <th>precision</th>\n",
       "      <th>recall</th>\n",
       "      <th>f1-score</th>\n",
       "      <th>support</th>\n",
       "    </tr>\n",
       "  </thead>\n",
       "  <tbody>\n",
       "    <tr>\n",
       "      <th>ham</th>\n",
       "      <td>0.969880</td>\n",
       "      <td>0.958333</td>\n",
       "      <td>0.964072</td>\n",
       "      <td>504.000000</td>\n",
       "    </tr>\n",
       "    <tr>\n",
       "      <th>spam</th>\n",
       "      <td>0.936364</td>\n",
       "      <td>0.953704</td>\n",
       "      <td>0.944954</td>\n",
       "      <td>324.000000</td>\n",
       "    </tr>\n",
       "    <tr>\n",
       "      <th>accuracy</th>\n",
       "      <td>0.956522</td>\n",
       "      <td>0.956522</td>\n",
       "      <td>0.956522</td>\n",
       "      <td>0.956522</td>\n",
       "    </tr>\n",
       "    <tr>\n",
       "      <th>macro avg</th>\n",
       "      <td>0.953122</td>\n",
       "      <td>0.956019</td>\n",
       "      <td>0.954513</td>\n",
       "      <td>828.000000</td>\n",
       "    </tr>\n",
       "    <tr>\n",
       "      <th>weighted avg</th>\n",
       "      <td>0.956765</td>\n",
       "      <td>0.956522</td>\n",
       "      <td>0.956591</td>\n",
       "      <td>828.000000</td>\n",
       "    </tr>\n",
       "  </tbody>\n",
       "</table>\n",
       "</div>"
      ],
      "text/plain": [
       "              precision    recall  f1-score     support\n",
       "ham            0.969880  0.958333  0.964072  504.000000\n",
       "spam           0.936364  0.953704  0.944954  324.000000\n",
       "accuracy       0.956522  0.956522  0.956522    0.956522\n",
       "macro avg      0.953122  0.956019  0.954513  828.000000\n",
       "weighted avg   0.956765  0.956522  0.956591  828.000000"
      ]
     },
     "execution_count": 37,
     "metadata": {},
     "output_type": "execute_result"
    }
   ],
   "source": [
    "pd.DataFrame(classification_report(y_val, y_val_pred_grad, target_names=['ham', 'spam'], output_dict=True)).T"
   ]
  },
  {
   "cell_type": "markdown",
   "id": "4e539473",
   "metadata": {},
   "source": [
    "### Voting Classifier"
   ]
  },
  {
   "cell_type": "markdown",
   "id": "0764f97a",
   "metadata": {},
   "source": [
    "#### Fitting the model into the training set"
   ]
  },
  {
   "cell_type": "code",
   "execution_count": 38,
   "id": "c8473442",
   "metadata": {},
   "outputs": [
    {
     "name": "stdout",
     "output_type": "stream",
     "text": [
      "Voting clf Training Score: 0.956219806763285\n",
      "Voting clf Validation Score: 0.9589371980676329\n"
     ]
    }
   ],
   "source": [
    "vote_clf = VotingClassifier(\n",
    "    estimators=[\n",
    "        ('logreg_clf', logreg_clf), \n",
    "        ('rf_clf', rf_clf), \n",
    "        ('xgb_clf', xgb_clf),\n",
    "        ('grad_clf', grad_clf)\n",
    "        ]\n",
    ")\n",
    "\n",
    "vote_clf.fit(X_train.to_numpy(), y_train)\n",
    "print(f'Voting clf Training Score: {vote_clf.score(X_train.to_numpy(), y_train)}') # 95.6220%\n",
    "print(f'Voting clf Validation Score: {vote_clf.score(X_val.to_numpy(), y_val)}') # 95.8937%"
   ]
  },
  {
   "cell_type": "markdown",
   "id": "527fe3db",
   "metadata": {},
   "source": [
    "#### Ploting the model evaluation plots "
   ]
  },
  {
   "cell_type": "code",
   "execution_count": 39,
   "id": "4e072365",
   "metadata": {},
   "outputs": [
    {
     "data": {
      "image/png": "[encoded data removed]",
      "text/plain": [
       "<Figure size 1000x400 with 3 Axes>"
      ]
     },
     "metadata": {},
     "output_type": "display_data"
    },
    {
     "data": {
      "text/plain": [
       "<Figure size 400x300 with 0 Axes>"
      ]
     },
     "metadata": {},
     "output_type": "display_data"
    },
    {
     "data": {
      "text/plain": [
       "<Figure size 400x300 with 0 Axes>"
      ]
     },
     "metadata": {},
     "output_type": "display_data"
    }
   ],
   "source": [
    "y_val_pred_vote = vote_clf.predict(X_val.to_numpy())\n",
    "cm= confusion_matrix(y_val_pred_vote, y_val)\n",
    "\n",
    "plot_model_evaluation(vote_clf, cm, 1, 2, n_jobs=2)\n",
    "# classification_report(y_val, y_val_pred_vote)"
   ]
  },
  {
   "cell_type": "markdown",
   "id": "4f235d1c",
   "metadata": {},
   "source": [
    "#### Classification Report"
   ]
  },
  {
   "cell_type": "code",
   "execution_count": 40,
   "id": "6eb1c3cc",
   "metadata": {},
   "outputs": [
    {
     "data": {
      "text/html": [
       "<div>\n",
       "<style scoped>\n",
       "    .dataframe tbody tr th:only-of-type {\n",
       "        vertical-align: middle;\n",
       "    }\n",
       "\n",
       "    .dataframe tbody tr th {\n",
       "        vertical-align: top;\n",
       "    }\n",
       "\n",
       "    .dataframe thead th {\n",
       "        text-align: right;\n",
       "    }\n",
       "</style>\n",
       "<table border=\"1\" class=\"dataframe\">\n",
       "  <thead>\n",
       "    <tr style=\"text-align: right;\">\n",
       "      <th></th>\n",
       "      <th>precision</th>\n",
       "      <th>recall</th>\n",
       "      <th>f1-score</th>\n",
       "      <th>support</th>\n",
       "    </tr>\n",
       "  </thead>\n",
       "  <tbody>\n",
       "    <tr>\n",
       "      <th>ham</th>\n",
       "      <td>0.955426</td>\n",
       "      <td>0.978175</td>\n",
       "      <td>0.966667</td>\n",
       "      <td>504.000000</td>\n",
       "    </tr>\n",
       "    <tr>\n",
       "      <th>spam</th>\n",
       "      <td>0.964744</td>\n",
       "      <td>0.929012</td>\n",
       "      <td>0.946541</td>\n",
       "      <td>324.000000</td>\n",
       "    </tr>\n",
       "    <tr>\n",
       "      <th>accuracy</th>\n",
       "      <td>0.958937</td>\n",
       "      <td>0.958937</td>\n",
       "      <td>0.958937</td>\n",
       "      <td>0.958937</td>\n",
       "    </tr>\n",
       "    <tr>\n",
       "      <th>macro avg</th>\n",
       "      <td>0.960085</td>\n",
       "      <td>0.953593</td>\n",
       "      <td>0.956604</td>\n",
       "      <td>828.000000</td>\n",
       "    </tr>\n",
       "    <tr>\n",
       "      <th>weighted avg</th>\n",
       "      <td>0.959072</td>\n",
       "      <td>0.958937</td>\n",
       "      <td>0.958791</td>\n",
       "      <td>828.000000</td>\n",
       "    </tr>\n",
       "  </tbody>\n",
       "</table>\n",
       "</div>"
      ],
      "text/plain": [
       "              precision    recall  f1-score     support\n",
       "ham            0.955426  0.978175  0.966667  504.000000\n",
       "spam           0.964744  0.929012  0.946541  324.000000\n",
       "accuracy       0.958937  0.958937  0.958937    0.958937\n",
       "macro avg      0.960085  0.953593  0.956604  828.000000\n",
       "weighted avg   0.959072  0.958937  0.958791  828.000000"
      ]
     },
     "execution_count": 40,
     "metadata": {},
     "output_type": "execute_result"
    }
   ],
   "source": [
    "pd.DataFrame(classification_report(y_val, y_val_pred_vote, target_names=['ham', 'spam'], output_dict=True)).T"
   ]
  },
  {
   "cell_type": "markdown",
   "id": "7a0f1732",
   "metadata": {},
   "source": [
    "## Using Stacking Ensemble with Voting Classifier for the Best Performance"
   ]
  },
  {
   "cell_type": "code",
   "execution_count": 41,
   "id": "77017dad",
   "metadata": {},
   "outputs": [],
   "source": [
    "stack_estimators = [ \n",
    "    # ('logreg_clf', logreg_clf),\n",
    "    # ('rf_clf', rf_clf),\n",
    "    ('xgb_clf', xgb_clf),\n",
    "    ('vote_clf', vote_clf),\n",
    "    ('grad_clf', grad_clf)\n",
    "]\n",
    "# Discarded Random Forest and Logistic Regression as these are performing the worst\n",
    "# Random Forest Classifier is overfitting the training set"
   ]
  },
  {
   "cell_type": "markdown",
   "id": "6e80a2b6",
   "metadata": {},
   "source": [
    "#### stack_clf_lr (Logistic Regression)"
   ]
  },
  {
   "cell_type": "code",
   "execution_count": 42,
   "id": "a3f3e41e",
   "metadata": {},
   "outputs": [
    {
     "name": "stdout",
     "output_type": "stream",
     "text": [
      "Train Score = 0.97675 | Validation Score = 0.95531\n"
     ]
    }
   ],
   "source": [
    "stack_clf_lr = StackingClassifier(\n",
    "    \n",
    "    estimators=stack_estimators, \n",
    "\n",
    "    final_estimator=LogisticRegression(random_state=40)\n",
    "    )\n",
    "\n",
    "stack_clf_lr.fit(X_train.to_numpy(), y_train)\n",
    "\n",
    "print(f'Train Score = {stack_clf_lr.score(X_train.to_numpy(), y_train):.5f} | ', end='') # 0.97675\n",
    "print(f'Validation Score = {stack_clf_lr.score(X_val.to_numpy(), y_val):.5f}') # 0.95531"
   ]
  },
  {
   "cell_type": "markdown",
   "id": "36547674",
   "metadata": {},
   "source": [
    "### Using Voting Classifier with `stack_clf_lr`"
   ]
  },
  {
   "cell_type": "code",
   "execution_count": 43,
   "id": "f810b763",
   "metadata": {},
   "outputs": [
    {
     "name": "stdout",
     "output_type": "stream",
     "text": [
      "Voting clf Training Score: 0.9719202898550725\n",
      "Voting clf Validation Score: 0.9637681159420289\n"
     ]
    }
   ],
   "source": [
    "vote_clf_stack = VotingClassifier(\n",
    "    estimators=[\n",
    "        ('stack_clf_lr', stack_clf_lr),\n",
    "        ('xgb', xgb_clf),\n",
    "        ('vote_clf', vote_clf),\n",
    "        ('grad_clf', grad_clf),\n",
    "        # ('rf_clf', rf_clf)\n",
    "    ])\n",
    "\n",
    "vote_clf_stack.fit(X_train.to_numpy(), y_train)\n",
    "\n",
    "print(f'Voting clf Training Score: {vote_clf_stack.score(X_train.to_numpy(), y_train)}') # 97.1920%\n",
    "print(f'Voting clf Validation Score: {vote_clf_stack.score(X_val.to_numpy(), y_val)}') # 96.3768%"
   ]
  },
  {
   "cell_type": "code",
   "execution_count": 44,
   "id": "9d7c9076",
   "metadata": {},
   "outputs": [
    {
     "data": {
      "image/png": "[encoded data removed]",
      "text/plain": [
       "<Figure size 400x300 with 2 Axes>"
      ]
     },
     "metadata": {},
     "output_type": "display_data"
    }
   ],
   "source": [
    "y_val_pred_stack = vote_clf_stack.predict(X_val.to_numpy())\n",
    "cm = confusion_matrix(y_val, y_val_pred_stack)\n",
    "\n",
    "plot_confusion_matrix(cm)"
   ]
  },
  {
   "cell_type": "code",
   "execution_count": 45,
   "id": "fb4e83cb",
   "metadata": {},
   "outputs": [
    {
     "data": {
      "text/html": [
       "<div>\n",
       "<style scoped>\n",
       "    .dataframe tbody tr th:only-of-type {\n",
       "        vertical-align: middle;\n",
       "    }\n",
       "\n",
       "    .dataframe tbody tr th {\n",
       "        vertical-align: top;\n",
       "    }\n",
       "\n",
       "    .dataframe thead th {\n",
       "        text-align: right;\n",
       "    }\n",
       "</style>\n",
       "<table border=\"1\" class=\"dataframe\">\n",
       "  <thead>\n",
       "    <tr style=\"text-align: right;\">\n",
       "      <th></th>\n",
       "      <th>precision</th>\n",
       "      <th>recall</th>\n",
       "      <th>f1-score</th>\n",
       "      <th>support</th>\n",
       "    </tr>\n",
       "  </thead>\n",
       "  <tbody>\n",
       "    <tr>\n",
       "      <th>ham</th>\n",
       "      <td>0.966535</td>\n",
       "      <td>0.974206</td>\n",
       "      <td>0.970356</td>\n",
       "      <td>504.000000</td>\n",
       "    </tr>\n",
       "    <tr>\n",
       "      <th>spam</th>\n",
       "      <td>0.959375</td>\n",
       "      <td>0.947531</td>\n",
       "      <td>0.953416</td>\n",
       "      <td>324.000000</td>\n",
       "    </tr>\n",
       "    <tr>\n",
       "      <th>accuracy</th>\n",
       "      <td>0.963768</td>\n",
       "      <td>0.963768</td>\n",
       "      <td>0.963768</td>\n",
       "      <td>0.963768</td>\n",
       "    </tr>\n",
       "    <tr>\n",
       "      <th>macro avg</th>\n",
       "      <td>0.962955</td>\n",
       "      <td>0.960869</td>\n",
       "      <td>0.961886</td>\n",
       "      <td>828.000000</td>\n",
       "    </tr>\n",
       "    <tr>\n",
       "      <th>weighted avg</th>\n",
       "      <td>0.963734</td>\n",
       "      <td>0.963768</td>\n",
       "      <td>0.963727</td>\n",
       "      <td>828.000000</td>\n",
       "    </tr>\n",
       "  </tbody>\n",
       "</table>\n",
       "</div>"
      ],
      "text/plain": [
       "              precision    recall  f1-score     support\n",
       "ham            0.966535  0.974206  0.970356  504.000000\n",
       "spam           0.959375  0.947531  0.953416  324.000000\n",
       "accuracy       0.963768  0.963768  0.963768    0.963768\n",
       "macro avg      0.962955  0.960869  0.961886  828.000000\n",
       "weighted avg   0.963734  0.963768  0.963727  828.000000"
      ]
     },
     "execution_count": 45,
     "metadata": {},
     "output_type": "execute_result"
    }
   ],
   "source": [
    "pd.DataFrame(classification_report(y_val, y_val_pred_stack, target_names=['ham', 'spam'], output_dict=True)).T"
   ]
  },
  {
   "cell_type": "markdown",
   "id": "2917e7fb",
   "metadata": {},
   "source": [
    "## Predicting the Test Set with the final model"
   ]
  },
  {
   "cell_type": "code",
   "execution_count": 46,
   "id": "c28f25ef",
   "metadata": {},
   "outputs": [
    {
     "name": "stdout",
     "output_type": "stream",
     "text": [
      "Test Score = 0.9370932754880694\n",
      "Test RMSE = 0.2508121299138672\n"
     ]
    }
   ],
   "source": [
    "y_pred = vote_clf_stack.predict(X_test.to_numpy())\n",
    "\n",
    "test_score = vote_clf_stack.score(X_test.to_numpy(), y_test)\n",
    "print(f'Test Score = {test_score}')\n",
    "## We got 93.71% accuracy on the test set\n",
    "\n",
    "print(f'Test RMSE = {rmse(y_pred, y_test)}')\n",
    "## We got 0.25 RMSE on the test set; signifing a good fit"
   ]
  },
  {
   "cell_type": "code",
   "execution_count": 47,
   "id": "f46323ba",
   "metadata": {},
   "outputs": [
    {
     "data": {
      "image/png": "[encoded data removed]",
      "text/plain": [
       "<Figure size 400x300 with 2 Axes>"
      ]
     },
     "metadata": {},
     "output_type": "display_data"
    },
    {
     "name": "stdout",
     "output_type": "stream",
     "text": [
      "We got 93.71% accuracy\n"
     ]
    }
   ],
   "source": [
    "cm = confusion_matrix(y_test, y_pred)\n",
    "plot_confusion_matrix(cm)\n",
    "print(f\"We got {round(test_score*100, 2)}% accuracy\")"
   ]
  },
  {
   "cell_type": "code",
   "execution_count": 48,
   "id": "18b40102",
   "metadata": {},
   "outputs": [
    {
     "data": {
      "text/html": [
       "<div>\n",
       "<style scoped>\n",
       "    .dataframe tbody tr th:only-of-type {\n",
       "        vertical-align: middle;\n",
       "    }\n",
       "\n",
       "    .dataframe tbody tr th {\n",
       "        vertical-align: top;\n",
       "    }\n",
       "\n",
       "    .dataframe thead th {\n",
       "        text-align: right;\n",
       "    }\n",
       "</style>\n",
       "<table border=\"1\" class=\"dataframe\">\n",
       "  <thead>\n",
       "    <tr style=\"text-align: right;\">\n",
       "      <th></th>\n",
       "      <th>Prediction</th>\n",
       "    </tr>\n",
       "  </thead>\n",
       "  <tbody>\n",
       "    <tr>\n",
       "      <th>451</th>\n",
       "      <td>ham</td>\n",
       "    </tr>\n",
       "    <tr>\n",
       "      <th>452</th>\n",
       "      <td>ham</td>\n",
       "    </tr>\n",
       "    <tr>\n",
       "      <th>453</th>\n",
       "      <td>spam</td>\n",
       "    </tr>\n",
       "    <tr>\n",
       "      <th>454</th>\n",
       "      <td>ham</td>\n",
       "    </tr>\n",
       "    <tr>\n",
       "      <th>455</th>\n",
       "      <td>ham</td>\n",
       "    </tr>\n",
       "    <tr>\n",
       "      <th>456</th>\n",
       "      <td>spam</td>\n",
       "    </tr>\n",
       "    <tr>\n",
       "      <th>457</th>\n",
       "      <td>spam</td>\n",
       "    </tr>\n",
       "    <tr>\n",
       "      <th>458</th>\n",
       "      <td>spam</td>\n",
       "    </tr>\n",
       "    <tr>\n",
       "      <th>459</th>\n",
       "      <td>spam</td>\n",
       "    </tr>\n",
       "    <tr>\n",
       "      <th>460</th>\n",
       "      <td>spam</td>\n",
       "    </tr>\n",
       "  </tbody>\n",
       "</table>\n",
       "</div>"
      ],
      "text/plain": [
       "    Prediction\n",
       "451        ham\n",
       "452        ham\n",
       "453       spam\n",
       "454        ham\n",
       "455        ham\n",
       "456       spam\n",
       "457       spam\n",
       "458       spam\n",
       "459       spam\n",
       "460       spam"
      ]
     },
     "execution_count": 48,
     "metadata": {},
     "output_type": "execute_result"
    }
   ],
   "source": [
    "y_pred = pd.DataFrame(y_pred, columns=['Prediction'])\n",
    "\n",
    "y_pred['Prediction'] = y_pred['Prediction'].map({1: 'spam', 0: 'ham'})\n",
    "y_pred.tail(10)"
   ]
  },
  {
   "cell_type": "code",
   "execution_count": 49,
   "id": "f5a0aaaf",
   "metadata": {},
   "outputs": [
    {
     "data": {
      "text/html": [
       "<div>\n",
       "<style scoped>\n",
       "    .dataframe tbody tr th:only-of-type {\n",
       "        vertical-align: middle;\n",
       "    }\n",
       "\n",
       "    .dataframe tbody tr th {\n",
       "        vertical-align: top;\n",
       "    }\n",
       "\n",
       "    .dataframe thead th {\n",
       "        text-align: right;\n",
       "    }\n",
       "</style>\n",
       "<table border=\"1\" class=\"dataframe\">\n",
       "  <thead>\n",
       "    <tr style=\"text-align: right;\">\n",
       "      <th></th>\n",
       "      <th>Actual Detection</th>\n",
       "    </tr>\n",
       "  </thead>\n",
       "  <tbody>\n",
       "    <tr>\n",
       "      <th>0</th>\n",
       "      <td>ham</td>\n",
       "    </tr>\n",
       "    <tr>\n",
       "      <th>1</th>\n",
       "      <td>ham</td>\n",
       "    </tr>\n",
       "    <tr>\n",
       "      <th>2</th>\n",
       "      <td>ham</td>\n",
       "    </tr>\n",
       "    <tr>\n",
       "      <th>3</th>\n",
       "      <td>spam</td>\n",
       "    </tr>\n",
       "    <tr>\n",
       "      <th>4</th>\n",
       "      <td>ham</td>\n",
       "    </tr>\n",
       "  </tbody>\n",
       "</table>\n",
       "</div>"
      ],
      "text/plain": [
       "  Actual Detection\n",
       "0              ham\n",
       "1              ham\n",
       "2              ham\n",
       "3             spam\n",
       "4              ham"
      ]
     },
     "execution_count": 49,
     "metadata": {},
     "output_type": "execute_result"
    }
   ],
   "source": [
    "y_test = pd.DataFrame(y_test, columns=['Actual Detection'])\n",
    "y_test['Actual Detection'] = y_test['Actual Detection'].map({1: 'spam', 0: 'ham'})\n",
    "y_test.head()"
   ]
  },
  {
   "cell_type": "markdown",
   "id": "df303d84",
   "metadata": {},
   "source": [
    "### Prediction DataFrame"
   ]
  },
  {
   "cell_type": "code",
   "execution_count": 50,
   "id": "e3527d60",
   "metadata": {},
   "outputs": [
    {
     "data": {
      "text/html": [
       "<div>\n",
       "<style scoped>\n",
       "    .dataframe tbody tr th:only-of-type {\n",
       "        vertical-align: middle;\n",
       "    }\n",
       "\n",
       "    .dataframe tbody tr th {\n",
       "        vertical-align: top;\n",
       "    }\n",
       "\n",
       "    .dataframe thead th {\n",
       "        text-align: right;\n",
       "    }\n",
       "</style>\n",
       "<table border=\"1\" class=\"dataframe\">\n",
       "  <thead>\n",
       "    <tr style=\"text-align: right;\">\n",
       "      <th></th>\n",
       "      <th>Actual Detection</th>\n",
       "      <th>Prediction</th>\n",
       "    </tr>\n",
       "  </thead>\n",
       "  <tbody>\n",
       "    <tr>\n",
       "      <th>451</th>\n",
       "      <td>ham</td>\n",
       "      <td>ham</td>\n",
       "    </tr>\n",
       "    <tr>\n",
       "      <th>452</th>\n",
       "      <td>ham</td>\n",
       "      <td>ham</td>\n",
       "    </tr>\n",
       "    <tr>\n",
       "      <th>453</th>\n",
       "      <td>spam</td>\n",
       "      <td>spam</td>\n",
       "    </tr>\n",
       "    <tr>\n",
       "      <th>454</th>\n",
       "      <td>ham</td>\n",
       "      <td>ham</td>\n",
       "    </tr>\n",
       "    <tr>\n",
       "      <th>455</th>\n",
       "      <td>ham</td>\n",
       "      <td>ham</td>\n",
       "    </tr>\n",
       "    <tr>\n",
       "      <th>456</th>\n",
       "      <td>spam</td>\n",
       "      <td>spam</td>\n",
       "    </tr>\n",
       "    <tr>\n",
       "      <th>457</th>\n",
       "      <td>spam</td>\n",
       "      <td>spam</td>\n",
       "    </tr>\n",
       "    <tr>\n",
       "      <th>458</th>\n",
       "      <td>spam</td>\n",
       "      <td>spam</td>\n",
       "    </tr>\n",
       "    <tr>\n",
       "      <th>459</th>\n",
       "      <td>spam</td>\n",
       "      <td>spam</td>\n",
       "    </tr>\n",
       "    <tr>\n",
       "      <th>460</th>\n",
       "      <td>spam</td>\n",
       "      <td>spam</td>\n",
       "    </tr>\n",
       "  </tbody>\n",
       "</table>\n",
       "</div>"
      ],
      "text/plain": [
       "    Actual Detection Prediction\n",
       "451              ham        ham\n",
       "452              ham        ham\n",
       "453             spam       spam\n",
       "454              ham        ham\n",
       "455              ham        ham\n",
       "456             spam       spam\n",
       "457             spam       spam\n",
       "458             spam       spam\n",
       "459             spam       spam\n",
       "460             spam       spam"
      ]
     },
     "execution_count": 50,
     "metadata": {},
     "output_type": "execute_result"
    }
   ],
   "source": [
    "pred_df = pd.concat([y_test, y_pred.reset_index(drop=True)], axis=1)\n",
    "pred_df.tail(10)"
   ]
  },
  {
   "cell_type": "markdown",
   "id": "d1514392",
   "metadata": {},
   "source": [
    "**Randomly selecting indices to get better insights about the predictions**"
   ]
  },
  {
   "cell_type": "code",
   "execution_count": 51,
   "id": "34c02839",
   "metadata": {},
   "outputs": [
    {
     "data": {
      "text/html": [
       "<div>\n",
       "<style scoped>\n",
       "    .dataframe tbody tr th:only-of-type {\n",
       "        vertical-align: middle;\n",
       "    }\n",
       "\n",
       "    .dataframe tbody tr th {\n",
       "        vertical-align: top;\n",
       "    }\n",
       "\n",
       "    .dataframe thead th {\n",
       "        text-align: right;\n",
       "    }\n",
       "</style>\n",
       "<table border=\"1\" class=\"dataframe\">\n",
       "  <thead>\n",
       "    <tr style=\"text-align: right;\">\n",
       "      <th></th>\n",
       "      <th>Actual Detection</th>\n",
       "      <th>Prediction</th>\n",
       "    </tr>\n",
       "  </thead>\n",
       "  <tbody>\n",
       "    <tr>\n",
       "      <th>167</th>\n",
       "      <td>spam</td>\n",
       "      <td>ham</td>\n",
       "    </tr>\n",
       "    <tr>\n",
       "      <th>372</th>\n",
       "      <td>ham</td>\n",
       "      <td>ham</td>\n",
       "    </tr>\n",
       "    <tr>\n",
       "      <th>367</th>\n",
       "      <td>ham</td>\n",
       "      <td>ham</td>\n",
       "    </tr>\n",
       "    <tr>\n",
       "      <th>149</th>\n",
       "      <td>spam</td>\n",
       "      <td>spam</td>\n",
       "    </tr>\n",
       "    <tr>\n",
       "      <th>259</th>\n",
       "      <td>ham</td>\n",
       "      <td>ham</td>\n",
       "    </tr>\n",
       "    <tr>\n",
       "      <th>9</th>\n",
       "      <td>ham</td>\n",
       "      <td>ham</td>\n",
       "    </tr>\n",
       "    <tr>\n",
       "      <th>3</th>\n",
       "      <td>spam</td>\n",
       "      <td>ham</td>\n",
       "    </tr>\n",
       "    <tr>\n",
       "      <th>361</th>\n",
       "      <td>spam</td>\n",
       "      <td>spam</td>\n",
       "    </tr>\n",
       "    <tr>\n",
       "      <th>67</th>\n",
       "      <td>ham</td>\n",
       "      <td>ham</td>\n",
       "    </tr>\n",
       "    <tr>\n",
       "      <th>20</th>\n",
       "      <td>ham</td>\n",
       "      <td>ham</td>\n",
       "    </tr>\n",
       "  </tbody>\n",
       "</table>\n",
       "</div>"
      ],
      "text/plain": [
       "    Actual Detection Prediction\n",
       "167             spam        ham\n",
       "372              ham        ham\n",
       "367              ham        ham\n",
       "149             spam       spam\n",
       "259              ham        ham\n",
       "9                ham        ham\n",
       "3               spam        ham\n",
       "361             spam       spam\n",
       "67               ham        ham\n",
       "20               ham        ham"
      ]
     },
     "execution_count": 51,
     "metadata": {},
     "output_type": "execute_result"
    }
   ],
   "source": [
    "random_indices = np.random.choice(len(y_test), size=10, replace=False)\n",
    "# y_test.shape\n",
    "pred_df.iloc[random_indices]"
   ]
  },
  {
   "cell_type": "code",
   "execution_count": null,
   "id": "44129eb1",
   "metadata": {},
   "outputs": [],
   "source": []
  }
 ],
 "metadata": {
  "kernelspec": {
   "display_name": "base",
   "language": "python",
   "name": "python3"
  },
  "language_info": {
   "codemirror_mode": {
    "name": "ipython",
    "version": 3
   },
   "file_extension": ".py",
   "mimetype": "text/x-python",
   "name": "python",
   "nbconvert_exporter": "python",
   "pygments_lexer": "ipython3",
   "version": "3.12.3"
  }
 },
 "nbformat": 4,
 "nbformat_minor": 5
}
